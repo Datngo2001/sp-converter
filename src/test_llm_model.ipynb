{
 "cells": [
  {
   "cell_type": "code",
   "execution_count": 1,
   "metadata": {},
   "outputs": [],
   "source": [
    "from llm_model import generate_text"
   ]
  },
  {
   "cell_type": "code",
   "execution_count": 3,
   "metadata": {},
   "outputs": [
    {
     "name": "stdout",
     "output_type": "stream",
     "text": [
      "```csharp\n",
      "\n",
      "using System;\n",
      "\n",
      "using Microsoft.EntityFrameworkCore;\n",
      "\n",
      "\n",
      "namespace YourNamespace.Models {\n",
      "\n",
      "    public class ContactType {\n",
      "\n",
      "        public int ContactTypeID { get; set; } // Primary key with auto-incrementing IDENTITY(1,1) in SQL Server table definition.\n",
      "\n",
      "        public string Name { get; set; } // Foreign key referencing dbo.[Name] NOT NULL field from another entity (e.g., Person).\n",
      "\n",
      "        public DateTime ModifiedDate { get; set; } // Not nullable datetime indicating the last modification date of a contact type record in SQL Server table definition.\n",
      "\n",
      "    }\n",
      "\n",
      "}\n",
      "\n",
      "```\n"
     ]
    }
   ],
   "source": [
    "response = generate_text([\"\"\"\n",
    "Explain this sql script:\n",
    "CREATE TABLE [Person].[ContactType](\n",
    "\t[ContactTypeID] [int] IDENTITY(1,1) NOT NULL,\n",
    "\t[Name] [dbo].[Name] NOT NULL,\n",
    "\t[ModifiedDate] [datetime] NOT NULL,\n",
    " CONSTRAINT [PK_ContactType_ContactTypeID] PRIMARY KEY CLUSTERED \n",
    "(\n",
    "\t[ContactTypeID] ASC\n",
    ")WITH (PAD_INDEX = OFF, STATISTICS_NORECOMPUTE = OFF, IGNORE_DUP_KEY = OFF, ALLOW_ROW_LOCKS = ON, ALLOW_PAGE_LOCKS = ON, OPTIMIZE_FOR_SEQUENTIAL_KEY = OFF) ON [PRIMARY]\n",
    ") ON [PRIMARY]\n",
    "\"\"\",\n",
    "\"\"\"\n",
    "Create entity classes for the above table in C# using Entity Framework Core.\n",
    "\"\"\"])\n",
    "\n",
    "print(response)"
   ]
  }
 ],
 "metadata": {
  "kernelspec": {
   "display_name": ".venv",
   "language": "python",
   "name": "python3"
  },
  "language_info": {
   "codemirror_mode": {
    "name": "ipython",
    "version": 3
   },
   "file_extension": ".py",
   "mimetype": "text/x-python",
   "name": "python",
   "nbconvert_exporter": "python",
   "pygments_lexer": "ipython3",
   "version": "3.12.3"
  }
 },
 "nbformat": 4,
 "nbformat_minor": 2
}
