{
 "cells": [
  {
   "cell_type": "code",
   "execution_count": 1,
   "metadata": {},
   "outputs": [],
   "source": [
    "from llm_model import generate_response, generate_text"
   ]
  },
  {
   "cell_type": "code",
   "execution_count": 2,
   "metadata": {},
   "outputs": [
    {
     "name": "stdout",
     "output_type": "stream",
     "text": [
      "Tool function: <function create_cs_file at 0x7f6477f2e8e0>\n",
      "Arguments: {'content': 'using System;\\nusing System.ComponentModel.DataAnnotations;\\n\\nnamespace Person\\n{\\n    public class ContactType\\n    {\\n        public int ContactTypeID { get; set; }\\n        public string Name { get; set; }\\n        public DateTime ModifiedDate { get; set; }\\n    }\\n}', 'file_name': 'Person.cs'}\n",
      "Tool result: None\n",
      "model='llama3.2' created_at='2025-04-07T12:25:50.264144333Z' done=True done_reason='stop' total_duration=1718898011 load_duration=28142364 prompt_eval_count=350 prompt_eval_duration=16702096 eval_count=98 eval_duration=1670486311 message=Message(role='assistant', content='', images=None, tool_calls=[ToolCall(function=Function(name='create_cs_file', arguments={'content': 'using System;\\nusing System.ComponentModel.DataAnnotations;\\n\\nnamespace Person\\n{\\n    public class ContactType\\n    {\\n        public int ContactTypeID { get; set; }\\n        public string Name { get; set; }\\n        public DateTime ModifiedDate { get; set; }\\n    }\\n}', 'file_name': 'Person.cs'}))])\n"
     ]
    }
   ],
   "source": [
    "\n",
    "response = generate_response([\"\"\"\n",
    "Explain this sql script:\n",
    "CREATE TABLE [Person].[ContactType](\n",
    "\t[ContactTypeID] [int] IDENTITY(1,1) NOT NULL,\n",
    "\t[Name] [dbo].[Name] NOT NULL,\n",
    "\t[ModifiedDate] [datetime] NOT NULL,\n",
    " CONSTRAINT [PK_ContactType_ContactTypeID] PRIMARY KEY CLUSTERED \n",
    "(\n",
    "\t[ContactTypeID] ASC\n",
    ")WITH (PAD_INDEX = OFF, STATISTICS_NORECOMPUTE = OFF, IGNORE_DUP_KEY = OFF, ALLOW_ROW_LOCKS = ON, ALLOW_PAGE_LOCKS = ON, OPTIMIZE_FOR_SEQUENTIAL_KEY = OFF) ON [PRIMARY]\n",
    ") ON [PRIMARY]\n",
    "\"\"\",\n",
    "\"\"\"\n",
    "Create entity classes for the above table in C# using Entity Framework Core.\n",
    "\"\"\"])\n",
    "\n",
    "print(response)"
   ]
  },
  {
   "cell_type": "code",
   "execution_count": 4,
   "metadata": {},
   "outputs": [
    {
     "name": "stdout",
     "output_type": "stream",
     "text": [
      "\n"
     ]
    }
   ],
   "source": [
    "response = generate_text([\"\"\"\n",
    "Explain this sql script:\n",
    "CREATE TABLE [Person].[ContactType](\n",
    "\t[ContactTypeID] [int] IDENTITY(1,1) NOT NULL,\n",
    "\t[Name] [dbo].[Name] NOT NULL,\n",
    "\t[ModifiedDate] [datetime] NOT NULL,\n",
    " CONSTRAINT [PK_ContactType_ContactTypeID] PRIMARY KEY CLUSTERED \n",
    "(\n",
    "\t[ContactTypeID] ASC\n",
    ")WITH (PAD_INDEX = OFF, STATISTICS_NORECOMPUTE = OFF, IGNORE_DUP_KEY = OFF, ALLOW_ROW_LOCKS = ON, ALLOW_PAGE_LOCKS = ON, OPTIMIZE_FOR_SEQUENTIAL_KEY = OFF) ON [PRIMARY]\n",
    ") ON [PRIMARY]\n",
    "\"\"\",\n",
    "\"\"\"\n",
    "Create entity classes for the above table in C# using Entity Framework Core.\n",
    "\"\"\"])\n",
    "\n",
    "print(response)"
   ]
  }
 ],
 "metadata": {
  "kernelspec": {
   "display_name": ".venv",
   "language": "python",
   "name": "python3"
  },
  "language_info": {
   "codemirror_mode": {
    "name": "ipython",
    "version": 3
   },
   "file_extension": ".py",
   "mimetype": "text/x-python",
   "name": "python",
   "nbconvert_exporter": "python",
   "pygments_lexer": "ipython3",
   "version": "3.12.3"
  }
 },
 "nbformat": 4,
 "nbformat_minor": 2
}
