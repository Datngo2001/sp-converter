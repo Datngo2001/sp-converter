{
 "cells": [
  {
   "cell_type": "code",
   "execution_count": 1,
   "metadata": {},
   "outputs": [],
   "source": [
    "from llm_model import generate_text"
   ]
  },
  {
   "cell_type": "code",
   "execution_count": 2,
   "metadata": {},
   "outputs": [
    {
     "name": "stdout",
     "output_type": "stream",
     "text": [
      "**SQL Script Explanation**\n",
      "\n",
      "The provided SQL script creates a new table named `[Person].[ContactType]` with three columns:\n",
      "\n",
      "1. `ContactTypeID`: an integer column that serves as the primary key, which is also an identity column. This means that each time a new record is inserted into this column, it will automatically increment by 1.\n",
      "2. `Name`: a string column that stores the name of the contact type.\n",
      "3. `ModifiedDate`: a datetime column that stores the date and time when the contact type was last modified.\n",
      "\n",
      "The script also defines a primary key constraint on the table, which is based on the `ContactTypeID` column. The primary key constraint ensures that each value in this column must be unique.\n",
      "\n",
      "Additionally, the script includes some database engine-specific options:\n",
      "\n",
      "* `PAD_INDEX = OFF`: prevents padding of the index with null values.\n",
      "* `STATISTICS_NORECOMPUTE = OFF`: prevents re-computation of statistics on the index.\n",
      "* `IGNORE_DUP_KEY = OFF`: prevents ignoring duplicate keys in the primary key constraint.\n",
      "* `ALLOW_ROW_LOCKS = ON` and `ALLOW_PAGE_LOCKS = ON`: allow row-level locking and page-level locking, respectively, to improve performance.\n",
      "\n",
      "**C# Entity Framework Core Code**\n",
      "\n",
      "Here is an example of how you can create entity classes for the above table using Entity Framework Core:\n",
      "```csharp\n",
      "using Microsoft.EntityFrameworkCore;\n",
      "using System.ComponentModel.DataAnnotations;\n",
      "\n",
      "public class ContactType\n",
      "{\n",
      "    public int ContactTypeID { get; set; }\n",
      "    [Required]\n",
      "    public string Name { get; set; }\n",
      "    public DateTime ModifiedDate { get; set; }\n",
      "\n",
      "    protected ContactType() { }\n",
      "\n",
      "    public ContactType(int contactTypeID, string name)\n",
      "    {\n",
      "        ContactTypeID = contactTypeID;\n",
      "        Name = name;\n",
      "        ModifiedDate = DateTime.Now;\n",
      "    }\n",
      "}\n",
      "\n",
      "public class PersonContext : DbContext\n",
      "{\n",
      "    public DbSet<ContactType> ContactTypes { get; set; }\n",
      "\n",
      "    protected override void OnConfiguring(DbContextOptionsBuilder optionsBuilder)\n",
      "    {\n",
      "        optionsBuilder.UseSqlServer(@\"Data Source=<your_data_source>;Initial Catalog=YourDatabase;Integrated Security=True;\");\n",
      "    }\n",
      "\n",
      "    protected override void OnModelCreating(ModelBuilder modelBuilder)\n",
      "    {\n",
      "        modelBuilder.Entity<ContactType>()\n",
      "            .HasKey(ct => ct.ContactTypeID);\n",
      "\n",
      "        modelBuilder.Entity<ContactType>()\n",
      "            .Property(ct => ct.Name)\n",
      "            .HasMaxLength(50);\n",
      "    }\n",
      "}\n",
      "```\n",
      "Note that in the `PersonContext` class, we define a `DbSet` property for the `ContactType` entity and configure the database connection using the `UseSqlServer` method. We also override the `OnModelCreating` method to configure the primary key constraint on the `ContactType` table.\n",
      "\n",
      "In the `ContactType` class, we define properties for the `ContactTypeID`, `Name`, and `ModifiedDate`. The `Required` attribute is used to specify that the `Name` property must be non-empty.\n"
     ]
    }
   ],
   "source": [
    "response = generate_text([\"\"\"\n",
    "Explain this sql script:\n",
    "CREATE TABLE [Person].[ContactType](\n",
    "\t[ContactTypeID] [int] IDENTITY(1,1) NOT NULL,\n",
    "\t[Name] [dbo].[Name] NOT NULL,\n",
    "\t[ModifiedDate] [datetime] NOT NULL,\n",
    " CONSTRAINT [PK_ContactType_ContactTypeID] PRIMARY KEY CLUSTERED \n",
    "(\n",
    "\t[ContactTypeID] ASC\n",
    ")WITH (PAD_INDEX = OFF, STATISTICS_NORECOMPUTE = OFF, IGNORE_DUP_KEY = OFF, ALLOW_ROW_LOCKS = ON, ALLOW_PAGE_LOCKS = ON, OPTIMIZE_FOR_SEQUENTIAL_KEY = OFF) ON [PRIMARY]\n",
    ") ON [PRIMARY]\n",
    "\"\"\",\n",
    "\"\"\"\n",
    "Create entity classes for the above table in C# using Entity Framework Core.\n",
    "\"\"\"])\n",
    "\n",
    "print(response)"
   ]
  }
 ],
 "metadata": {
  "kernelspec": {
   "display_name": ".venv",
   "language": "python",
   "name": "python3"
  },
  "language_info": {
   "codemirror_mode": {
    "name": "ipython",
    "version": 3
   },
   "file_extension": ".py",
   "mimetype": "text/x-python",
   "name": "python",
   "nbconvert_exporter": "python",
   "pygments_lexer": "ipython3",
   "version": "3.12.3"
  }
 },
 "nbformat": 4,
 "nbformat_minor": 2
}
