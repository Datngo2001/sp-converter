{
 "cells": [
  {
   "cell_type": "code",
   "execution_count": 1,
   "metadata": {},
   "outputs": [
    {
     "name": "stderr",
     "output_type": "stream",
     "text": [
      "/home/datngominh/sp-converter/.venv/lib/python3.12/site-packages/tqdm/auto.py:21: TqdmWarning: IProgress not found. Please update jupyter and ipywidgets. See https://ipywidgets.readthedocs.io/en/stable/user_install.html\n",
      "  from .autonotebook import tqdm as notebook_tqdm\n"
     ]
    }
   ],
   "source": [
    "# Pull and load model \n",
    "from rag_pipeline import graph"
   ]
  },
  {
   "cell_type": "code",
   "execution_count": null,
   "metadata": {},
   "outputs": [
    {
     "name": "stdout",
     "output_type": "stream",
     "text": [
      "Testing the application...\n"
     ]
    },
    {
     "name": "stderr",
     "output_type": "stream",
     "text": [
      "Setting `pad_token_id` to `eos_token_id`:32014 for open-end generation.\n"
     ]
    }
   ],
   "source": [
    "# Test the application\n",
    "print(\"Testing the application...\")\n",
    "\n",
    "response = graph.invoke({\n",
    "  \"task\": \"\"\"\n",
    "    Help me create entity class for the table [Person].[Person]\n",
    "  \"\"\",\n",
    "  \"task_hint\": \"\"\"\n",
    "    Check the script file contain: CREATE TABLE [Person].[Person].\n",
    "  \"\"\"\n",
    "})\n",
    "\n",
    "print(\"Answer:\")\n",
    "\n",
    "# Write the answer to a text file\n",
    "with open(\"response_answer.md\", \"w\") as file:\n",
    "    file.write(response[\"answer\"])\n",
    "\n",
    "print(\"Test complete.\")"
   ]
  }
 ],
 "metadata": {
  "kernelspec": {
   "display_name": ".venv",
   "language": "python",
   "name": "python3"
  },
  "language_info": {
   "codemirror_mode": {
    "name": "ipython",
    "version": 3
   },
   "file_extension": ".py",
   "mimetype": "text/x-python",
   "name": "python",
   "nbconvert_exporter": "python",
   "pygments_lexer": "ipython3",
   "version": "3.12.3"
  }
 },
 "nbformat": 4,
 "nbformat_minor": 2
}
